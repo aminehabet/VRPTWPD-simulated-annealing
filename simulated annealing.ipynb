{
 "cells": [
  {
   "cell_type": "code",
   "execution_count": 14,
   "metadata": {},
   "outputs": [],
   "source": [
    "import numpy as np\n",
    "import random as rd\n",
    "import networkx as nx #to plt the graph\n",
    "from matplotlib import pyplot as plt\n",
    "from copy import deepcopy as deepcopy"
   ]
  },
  {
   "cell_type": "code",
   "execution_count": 15,
   "metadata": {},
   "outputs": [],
   "source": [
    "data = {}\n",
    "\n",
    "data['tijk'] = [ #tijk\n",
    "    [0, 6, 9, 8, 7, 3, 6, 2, 3, 2, 6, 6, 4, 4, 5, 9, 7],                 #0\n",
    "    [6, 0, 8, 3, 2, 6, 8, 4, 8, 8, 13, 7, 5, 8, 12, 10, 14],             #1 \n",
    "    [9, 8, 0, 11, 10, 6, 3, 9, 5, 8, 4, 15, 14, 13, 9, 18, 9],           #2\n",
    "    [8, 3, 11, 0, 1, 7, 10, 6, 10, 10, 14, 6, 7, 9, 14, 6, 16],          #3   \n",
    "    [7, 2, 10, 1, 0, 6, 9, 4, 8, 9, 13, 4, 6, 8, 12, 8, 14],             #4\n",
    "    [3, 6, 6, 7, 6, 0, 2, 3, 2, 2, 7, 9, 7, 7, 6, 12, 8],                #5\n",
    "    [6, 8, 3, 10, 9, 2, 0, 6, 2, 5, 4, 12, 10, 10, 6, 15, 5],            #6\n",
    "    [2, 4, 9, 6, 4, 3, 6, 0, 4, 4, 8, 5, 4, 3, 7, 8, 10],                #7\n",
    "    [3, 8, 5, 10, 8, 2, 2, 4, 0, 3, 4, 9, 8, 7, 3, 13, 6],               #8\n",
    "    [2, 8, 8, 10, 9, 2, 5, 4, 3, 0, 4, 6, 5, 4, 3, 9, 5],                #9\n",
    "    [6, 13, 4, 14, 13, 7, 4, 8, 4, 4, 0, 10, 9, 8, 4, 13, 4],            #10\n",
    "    [6, 7, 15, 6, 4, 9, 12, 5, 9, 6, 10, 0, 1, 3, 7, 3, 10],             #11\n",
    "    [4, 5, 14, 7, 6, 7, 10, 4, 8, 5, 9, 1, 0, 2, 6, 4, 8],               #12\n",
    "    [4, 8, 13, 9, 8, 7, 10, 3, 7, 4, 8, 3, 2, 0, 4, 5, 6],               #13\n",
    "    [5, 12, 9, 14, 12, 6, 6, 7, 3, 3, 4, 7, 6, 4, 0, 9, 2],              #14\n",
    "    [9, 10, 18, 6, 8, 12, 15, 8, 13, 9, 13, 3, 4, 5, 9, 0, 9],           #15\n",
    "    [7, 14, 9, 16, 14, 8, 5, 10, 6, 5, 4, 10, 8, 6, 2, 9, 0],            #16\n",
    "]\n",
    "\n",
    "data['time_windows'] = [\n",
    "   #(ai, bi)\n",
    "    (0, 100),  # i = o(k)\n",
    "    (0, 100),  # i = 1\n",
    "    (0, 100),  # i = 2\n",
    "    (0, 100),  # i = 3\n",
    "    (0, 100),  # i = 4\n",
    "    (0, 100),  # i = 5\n",
    "    (0, 100),  # i = 6\n",
    "    (0, 100),  # i = 7\n",
    "    (0, 100),  # i = 8\n",
    "    (0, 100),  # i = 9\n",
    "    (0, 100),  # i = 10\n",
    "    (0, 100),  # i = 11\n",
    "    (0, 100),  # i = 12\n",
    "    (0, 100),  # i = 13\n",
    "    (0, 100),  # i = 14\n",
    "    (0, 100),  # i = 15\n",
    "    (0, 100),  # i = 16\n",
    "]\n",
    "data['pickups_deliveries'] = [\n",
    "    [1, 6],\n",
    "    [2, 10],\n",
    "    [4, 3],\n",
    "    [5, 9],\n",
    "    [7, 8],\n",
    "    [15, 11],\n",
    "    [13, 12],\n",
    "    [16, 14],\n",
    "]\n",
    "data['k'] = 1  #k: num vehicule \n",
    "\n",
    "data['o(k)'] = 0 # o(k) origin\n",
    "\n",
    "data['P'] = []\n",
    "for j in range(len(data['pickups_deliveries'])):\n",
    "    data['P'].append(data['pickups_deliveries'][j][0])\n",
    "\n",
    "data['D'] = []\n",
    "for j in range(len(data['pickups_deliveries'])):\n",
    "    data['D'].append(data['pickups_deliveries'][j][1])\n",
    "\n",
    "data['K'] = np.arange(1, data['k'] + 1)\n",
    "\n",
    "data['Tik'] = np.zeros((17, data['k']))\n",
    "\n"
   ]
  },
  {
   "cell_type": "code",
   "execution_count": 16,
   "metadata": {},
   "outputs": [],
   "source": [
    "s0 = [0, 1, 2, 3, 4, 5, 6, 7, 8, 9, 10, 11, 12, 13, 14, 15, 16] "
   ]
  },
  {
   "cell_type": "code",
   "execution_count": 17,
   "metadata": {},
   "outputs": [],
   "source": [
    "def solutionRate(s0, tijk):\n",
    "    N = len(s0)\n",
    "    output = 0\n",
    "    for i in range(N-1):\n",
    "        output += tijk[(s0[i])][(s0[i+1])]\n",
    "    return float(output/N-1)"
   ]
  },
  {
   "cell_type": "code",
   "execution_count": 18,
   "metadata": {},
   "outputs": [
    {
     "data": {
      "text/plain": [
       "4.0588235294117645"
      ]
     },
     "execution_count": 18,
     "metadata": {},
     "output_type": "execute_result"
    }
   ],
   "source": [
    "solutionRate(s0, data['tijk'])"
   ]
  },
  {
   "cell_type": "code",
   "execution_count": 19,
   "metadata": {},
   "outputs": [],
   "source": [
    "def generate(s):\n",
    "    return np.random.permutation(s)"
   ]
  },
  {
   "cell_type": "code",
   "execution_count": 20,
   "metadata": {},
   "outputs": [],
   "source": [
    "def improveSolution(niter,s0, generate, tijk,T):\n",
    "    s = deepcopy(s0)\n",
    "    rate = solutionRate(s,tijk)\n",
    "    rates = [rate]\n",
    "    for n in range(niter):\n",
    "        setoile = generate(s)\n",
    "        if setoile[0] == 0:\n",
    "            delta = solutionRate(setoile,tijk) - rate\n",
    "            if  delta < 0:\n",
    "                s = setoile\n",
    "                rate = solutionRate(s,tijk)\n",
    "            else:\n",
    "                a = rd.random()\n",
    "                if a < np.exp(-delta/T(n)):\n",
    "                    s = setoile\n",
    "                    rate = solutionRate(s,tijk)\n",
    "            rates.append(rate)\n",
    "    return s,rates"
   ]
  },
  {
   "cell_type": "code",
   "execution_count": 21,
   "metadata": {},
   "outputs": [],
   "source": [
    "def simulatedAnnealing(s0, niter, tijk, Temperature, N):\n",
    "    s_sim, rate_sim = improveSolution(niter, s0,generate,tijk,Temperature)\n",
    "    rates = rate_sim[-1]\n",
    "    return s_sim, rates\n"
   ]
  },
  {
   "cell_type": "code",
   "execution_count": 22,
   "metadata": {},
   "outputs": [],
   "source": [
    "def Temp(n,alpha=.6):\n",
    "    return max(100 *  (alpha**(n+1)), 10**(-18))"
   ]
  },
  {
   "cell_type": "code",
   "execution_count": 23,
   "metadata": {},
   "outputs": [],
   "source": [
    "test = simulatedAnnealing(s0, 100000, data['tijk'], Temp, data['P'] + data['D'])"
   ]
  },
  {
   "cell_type": "code",
   "execution_count": 24,
   "metadata": {},
   "outputs": [
    {
     "name": "stdout",
     "output_type": "stream",
     "text": [
      "(array([ 0,  1,  4,  3, 11, 13,  9, 14, 16, 12, 15,  7,  6,  8,  2,  5, 10]), 3.2941176470588234)\n"
     ]
    }
   ],
   "source": [
    "print(test)"
   ]
  },
  {
   "cell_type": "code",
   "execution_count": 25,
   "metadata": {},
   "outputs": [],
   "source": [
    "def visual(G, k):\n",
    "    g = nx.Graph() \n",
    "    for k in range (data['k']):  \n",
    "        for i in range(len(G[k]) - 1):\n",
    "            g.add_edge(G[k][i], G[k][i+1]) \n",
    "    nx.draw_circular(g, with_labels = True, edge_color='r') "
   ]
  },
  {
   "cell_type": "code",
   "execution_count": 13,
   "metadata": {},
   "outputs": [
    {
     "data": {
      "image/png": "[encoded data removed]",
      "text/plain": [
       "<Figure size 432x288 with 1 Axes>"
      ]
     },
     "metadata": {},
     "output_type": "display_data"
    }
   ],
   "source": [
    "visual(test, data['k'])"
   ]
  },
  {
   "cell_type": "code",
   "execution_count": null,
   "metadata": {},
   "outputs": [],
   "source": []
  }
 ],
 "metadata": {
  "kernelspec": {
   "display_name": "Python 3",
   "language": "python",
   "name": "python3"
  },
  "language_info": {
   "codemirror_mode": {
    "name": "ipython",
    "version": 3
   },
   "file_extension": ".py",
   "mimetype": "text/x-python",
   "name": "python",
   "nbconvert_exporter": "python",
   "pygments_lexer": "ipython3",
   "version": "3.8.2"
  }
 },
 "nbformat": 4,
 "nbformat_minor": 4
}
